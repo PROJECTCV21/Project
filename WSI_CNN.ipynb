{
  "nbformat": 4,
  "nbformat_minor": 0,
  "metadata": {
    "colab": {
      "name": "WSI_CNN.ipynb",
      "provenance": [],
      "collapsed_sections": []
    },
    "kernelspec": {
      "name": "python3",
      "display_name": "Python 3"
    },
    "language_info": {
      "name": "python"
    }
  },
  "cells": [
    {
      "cell_type": "code",
      "execution_count": null,
      "metadata": {
        "colab": {
          "base_uri": "https://localhost:8080/"
        },
        "id": "IkwThMv88i7c",
        "outputId": "f4bc59e6-2948-4997-9b0a-67e05d80ce86"
      },
      "outputs": [
        {
          "output_type": "stream",
          "name": "stdout",
          "text": [
            "Drive already mounted at /content/drive/; to attempt to forcibly remount, call drive.mount(\"/content/drive/\", force_remount=True).\n"
          ]
        }
      ],
      "source": [
        "import tifffile as tiff\n",
        "import matplotlib.pyplot as plt\n",
        "import numpy as np\n",
        "from google.colab import drive\n",
        "drive.mount('/content/drive/')\n",
        "from keras.preprocessing.image import ImageDataGenerator"
      ]
    },
    {
      "cell_type": "code",
      "source": [
        "from keras.preprocessing.image import ImageDataGenerator\n",
        "\n",
        "img_height, img_width = 256, 256\n",
        "\n",
        "train_data_dir = '/content/drive/MyDrive/Colab Notebooks/data from kaggle/train/'\n",
        "validation_data_dir = '/content/drive/MyDrive/Colab Notebooks/data from kaggle/val/'\n",
        "test_data_dir = '/content/drive/MyDrive/Colab Notebooks/data from kaggle/test/'\n",
        "\n",
        "# normalize the pixel values from [0, 255] to [0, 1] interval\n",
        "datagen = ImageDataGenerator(rescale=1./255)\n",
        "\n",
        "# automagically retrieve images and their classes for train and validation sets\n",
        "batch_size = 32 \n",
        "\n",
        "train_generator = datagen.flow_from_directory(\n",
        "        train_data_dir,\n",
        "        target_size=(img_width, img_height),\n",
        "        color_mode = 'rgb',\n",
        "        batch_size=batch_size,\n",
        "        class_mode='categorical')\n",
        "\n",
        "validation_generator = datagen.flow_from_directory(\n",
        "        validation_data_dir,\n",
        "        target_size=(img_width, img_height),\n",
        "        color_mode = 'rgb',\n",
        "        batch_size=batch_size,\n",
        "        class_mode='categorical')\n",
        "test_batches = datagen.flow_from_directory(directory=test_data_dir, target_size=(256,256), classes=['Grade0', 'Grade1','Grade2','Grade3','Grade4'], batch_size=10, shuffle=False)"
      ],
      "metadata": {
        "colab": {
          "base_uri": "https://localhost:8080/"
        },
        "id": "W4sPkyLK8uD1",
        "outputId": "5b4d8e1c-bfdc-4aed-bc70-cba69f8c1a36"
      },
      "execution_count": null,
      "outputs": [
        {
          "output_type": "stream",
          "name": "stdout",
          "text": [
            "Found 171 images belonging to 5 classes.\n",
            "Found 55 images belonging to 5 classes.\n",
            "Found 106 images belonging to 5 classes.\n"
          ]
        }
      ]
    },
    {
      "cell_type": "code",
      "source": [
        "test_imgs, test_labels = next(test_batches)"
      ],
      "metadata": {
        "id": "kCNB1iie8-Dh"
      },
      "execution_count": null,
      "outputs": []
    },
    {
      "cell_type": "code",
      "source": [
        "t=test_batches.classes"
      ],
      "metadata": {
        "id": "ZTaXd1Mg8_K7"
      },
      "execution_count": null,
      "outputs": []
    },
    {
      "cell_type": "code",
      "source": [
        "from keras.models import Sequential\n",
        "from keras.layers import Dropout, Flatten, Dense, Conv2D, MaxPooling2D\n",
        "from tensorflow.keras.optimizers import SGD\n",
        "from keras.callbacks import ModelCheckpoint\n",
        "\n",
        "\n",
        "img_width, img_height = 256,256\n",
        "input_dim = 256*256\n",
        "output_dim = 5\n",
        "\n",
        "def CNN():\n",
        "    model = Sequential()\n",
        "    model.add(Conv2D(32, (3,3), input_shape = (img_width, img_height, 3), activation = 'relu'))\n",
        "    model.add(MaxPooling2D(pool_size=(2, 2)))\n",
        "    model.add(Conv2D(64, (3,3), activation = 'relu'))\n",
        "    model.add(MaxPooling2D(pool_size=(2, 2)))\n",
        "    model.add(Conv2D(64, (3,3), activation = 'relu'))\n",
        "    model.add(MaxPooling2D(pool_size=(2, 2)))\n",
        "    model.add(Flatten())\n",
        "    model.add(Dense(500, activation = 'relu'))\n",
        "    model.add(Dense(500, activation = 'relu'))\n",
        "    model.add(Dense(500, activation = 'relu'))\n",
        "    model.add(Dense(500, activation = 'relu'))\n",
        "    model.add(Dense(5, activation = 'softmax')) \n",
        "    return model\n",
        "\n",
        "model = CNN()"
      ],
      "metadata": {
        "id": "PJQtFPRA9GOq"
      },
      "execution_count": null,
      "outputs": []
    },
    {
      "cell_type": "code",
      "source": [
        "model.compile(optimizer = 'adam', loss = 'categorical_crossentropy', metrics = ['accuracy']) # compile model"
      ],
      "metadata": {
        "id": "KGqOiW7g9Jqc"
      },
      "execution_count": null,
      "outputs": []
    },
    {
      "cell_type": "code",
      "source": [
        "import os\n",
        "\n",
        "# print model information\n",
        "model.summary()\n",
        "nb_epoch = 10\n",
        "outputFolder = 'weights/'\n",
        "if not os.path.exists(outputFolder):\n",
        "    os.makedirs(outputFolder)\n",
        "\n",
        "filepath=outputFolder+\"/weights-{epoch:02d}-{val_accuracy:.2f}.hdf5\"\n",
        "checkpoint = ModelCheckpoint(filepath, monitor='val_accuracy', verbose=1, \\\n",
        "                             save_best_only=False, save_weights_only=True, \\\n",
        "                             mode='auto', period=1,save_freq= \"epoch\")\n",
        "callbacks_list = [checkpoint]\n",
        "\n",
        "\n",
        "\n",
        "\n",
        "model_info = model.fit(\n",
        "        train_generator,\n",
        "        epochs=nb_epoch,\n",
        "        batch_size=100,\n",
        "        validation_data=validation_generator,\n",
        "        validation_batch_size=100,\n",
        "        callbacks=callbacks_list)"
      ],
      "metadata": {
        "colab": {
          "base_uri": "https://localhost:8080/"
        },
        "id": "2vJV5kGb9M5Q",
        "outputId": "298de718-82ed-4cf7-a320-ea6022844101"
      },
      "execution_count": null,
      "outputs": [
        {
          "output_type": "stream",
          "name": "stdout",
          "text": [
            "Model: \"sequential_1\"\n",
            "_________________________________________________________________\n",
            " Layer (type)                Output Shape              Param #   \n",
            "=================================================================\n",
            " conv2d_3 (Conv2D)           (None, 254, 254, 32)      896       \n",
            "                                                                 \n",
            " max_pooling2d_3 (MaxPooling  (None, 127, 127, 32)     0         \n",
            " 2D)                                                             \n",
            "                                                                 \n",
            " conv2d_4 (Conv2D)           (None, 125, 125, 64)      18496     \n",
            "                                                                 \n",
            " max_pooling2d_4 (MaxPooling  (None, 62, 62, 64)       0         \n",
            " 2D)                                                             \n",
            "                                                                 \n",
            " conv2d_5 (Conv2D)           (None, 60, 60, 64)        36928     \n",
            "                                                                 \n",
            " max_pooling2d_5 (MaxPooling  (None, 30, 30, 64)       0         \n",
            " 2D)                                                             \n",
            "                                                                 \n",
            " flatten_1 (Flatten)         (None, 57600)             0         \n",
            "                                                                 \n",
            " dense_5 (Dense)             (None, 500)               28800500  \n",
            "                                                                 \n",
            " dense_6 (Dense)             (None, 500)               250500    \n",
            "                                                                 \n",
            " dense_7 (Dense)             (None, 500)               250500    \n",
            "                                                                 \n",
            " dense_8 (Dense)             (None, 500)               250500    \n",
            "                                                                 \n",
            " dense_9 (Dense)             (None, 5)                 2505      \n",
            "                                                                 \n",
            "=================================================================\n",
            "Total params: 29,610,825\n",
            "Trainable params: 29,610,825\n",
            "Non-trainable params: 0\n",
            "_________________________________________________________________\n",
            "WARNING:tensorflow:`period` argument is deprecated. Please use `save_freq` to specify the frequency in number of batches seen.\n",
            "Epoch 1/10\n",
            "6/6 [==============================] - ETA: 0s - loss: 2.5835 - accuracy: 0.2281 \n",
            "Epoch 1: saving model to weights/weights-01-0.20.hdf5\n",
            "6/6 [==============================] - 130s 24s/step - loss: 2.5835 - accuracy: 0.2281 - val_loss: 1.6265 - val_accuracy: 0.2000\n",
            "Epoch 2/10\n",
            "6/6 [==============================] - ETA: 0s - loss: 1.6123 - accuracy: 0.2573\n",
            "Epoch 2: saving model to weights/weights-02-0.20.hdf5\n",
            "6/6 [==============================] - 31s 5s/step - loss: 1.6123 - accuracy: 0.2573 - val_loss: 1.6421 - val_accuracy: 0.2000\n",
            "Epoch 3/10\n",
            "6/6 [==============================] - ETA: 0s - loss: 1.6153 - accuracy: 0.2632\n",
            "Epoch 3: saving model to weights/weights-03-0.20.hdf5\n",
            "6/6 [==============================] - 35s 6s/step - loss: 1.6153 - accuracy: 0.2632 - val_loss: 1.5893 - val_accuracy: 0.2000\n",
            "Epoch 4/10\n",
            "6/6 [==============================] - ETA: 0s - loss: 1.5744 - accuracy: 0.2456\n",
            "Epoch 4: saving model to weights/weights-04-0.36.hdf5\n",
            "6/6 [==============================] - 31s 5s/step - loss: 1.5744 - accuracy: 0.2456 - val_loss: 1.4833 - val_accuracy: 0.3636\n",
            "Epoch 5/10\n",
            "6/6 [==============================] - ETA: 0s - loss: 1.4048 - accuracy: 0.3509\n",
            "Epoch 5: saving model to weights/weights-05-0.31.hdf5\n",
            "6/6 [==============================] - 31s 6s/step - loss: 1.4048 - accuracy: 0.3509 - val_loss: 1.4354 - val_accuracy: 0.3091\n",
            "Epoch 6/10\n",
            "6/6 [==============================] - ETA: 0s - loss: 1.4545 - accuracy: 0.3333\n",
            "Epoch 6: saving model to weights/weights-06-0.24.hdf5\n",
            "6/6 [==============================] - 32s 5s/step - loss: 1.4545 - accuracy: 0.3333 - val_loss: 1.6691 - val_accuracy: 0.2364\n",
            "Epoch 7/10\n",
            "6/6 [==============================] - ETA: 0s - loss: 1.5471 - accuracy: 0.3041\n",
            "Epoch 7: saving model to weights/weights-07-0.20.hdf5\n",
            "6/6 [==============================] - 31s 5s/step - loss: 1.5471 - accuracy: 0.3041 - val_loss: 1.5857 - val_accuracy: 0.2000\n",
            "Epoch 8/10\n",
            "6/6 [==============================] - ETA: 0s - loss: 1.4535 - accuracy: 0.2398\n",
            "Epoch 8: saving model to weights/weights-08-0.31.hdf5\n",
            "6/6 [==============================] - 31s 5s/step - loss: 1.4535 - accuracy: 0.2398 - val_loss: 1.2813 - val_accuracy: 0.3091\n",
            "Epoch 9/10\n",
            "6/6 [==============================] - ETA: 0s - loss: 1.2437 - accuracy: 0.4444\n",
            "Epoch 9: saving model to weights/weights-09-0.40.hdf5\n",
            "6/6 [==============================] - 31s 5s/step - loss: 1.2437 - accuracy: 0.4444 - val_loss: 1.1863 - val_accuracy: 0.4000\n",
            "Epoch 10/10\n",
            "6/6 [==============================] - ETA: 0s - loss: 1.1359 - accuracy: 0.4795\n",
            "Epoch 10: saving model to weights/weights-10-0.40.hdf5\n",
            "6/6 [==============================] - 31s 5s/step - loss: 1.1359 - accuracy: 0.4795 - val_loss: 1.0295 - val_accuracy: 0.4000\n"
          ]
        }
      ]
    },
    {
      "cell_type": "code",
      "source": [
        "import matplotlib.pyplot as plt\n",
        "import numpy as np\n",
        "\n",
        "def plot_model_history(model_history):\n",
        "    fig, axs = plt.subplots(1,2,figsize=(15,5))\n",
        "    # model history for accuracy\n",
        "    axs[0].plot(range(1,len(model_history.history['accuracy'])+1),model_history.history['accuracy'])\n",
        "    axs[0].plot(range(1,len(model_history.history['val_accuracy'])+1),model_history.history['val_accuracy'])\n",
        "    axs[0].set_title('Model Accuracy')\n",
        "    axs[0].set_ylabel('Accuracy')\n",
        "    axs[0].set_xlabel('Epoch')\n",
        "    axs[0].set_xticks(np.arange(1,len(model_history.history['accuracy'])+1),len(model_history.history['accuracy'])/10)\n",
        "    axs[0].legend(['training acc', 'val acc'], loc='best')\n",
        "    axs[0].grid(True)\n",
        "    # model history for loss\n",
        "    axs[1].plot(range(1,len(model_history.history['loss'])+1),model_history.history['loss'])\n",
        "    axs[1].plot(range(1,len(model_history.history['val_loss'])+1),model_history.history['val_loss'])\n",
        "    axs[1].set_title('Model Loss')\n",
        "    axs[1].set_ylabel('Loss')\n",
        "    axs[1].set_xlabel('Epoch')\n",
        "    axs[1].set_xticks(np.arange(1,len(model_history.history['loss'])+1),len(model_history.history['loss'])/10)\n",
        "    axs[1].legend(['training loss', 'val loss'], loc='best')\n",
        "    axs[1].grid(True)\n",
        "    plt.show()\n",
        "plot_model_history(model_info)"
      ],
      "metadata": {
        "colab": {
          "base_uri": "https://localhost:8080/",
          "height": 422
        },
        "id": "_R_mN58S9QEU",
        "outputId": "3f889414-eea5-4053-9ae6-d96fed294aa4"
      },
      "execution_count": null,
      "outputs": [
        {
          "output_type": "stream",
          "name": "stderr",
          "text": [
            "/usr/local/lib/python3.7/dist-packages/ipykernel_launcher.py:12: MatplotlibDeprecationWarning: Passing the minor parameter of set_xticks() positionally is deprecated since Matplotlib 3.2; the parameter will become keyword-only two minor releases later.\n",
            "  if sys.path[0] == '':\n",
            "/usr/local/lib/python3.7/dist-packages/ipykernel_launcher.py:21: MatplotlibDeprecationWarning: Passing the minor parameter of set_xticks() positionally is deprecated since Matplotlib 3.2; the parameter will become keyword-only two minor releases later.\n"
          ]
        },
        {
          "output_type": "display_data",
          "data": {
            "image/png": "[encoded data removed]",
            "text/plain": [
              "<Figure size 1080x360 with 2 Axes>"
            ]
          },
          "metadata": {
            "needs_background": "light"
          }
        }
      ]
    },
    {
      "cell_type": "code",
      "source": [
        "model_json = model.to_json()\n",
        "with open(\"model.json\", \"w\") as json_file:\n",
        "    json_file.write(model_json)\n",
        "# serialize weights to HDF5\n",
        "model.save_weights(\"model.h5\")\n",
        "print(\"Saved model to disk\")"
      ],
      "metadata": {
        "colab": {
          "base_uri": "https://localhost:8080/"
        },
        "id": "Tqf-2SpptHyW",
        "outputId": "caf6d178-adad-434e-f1a6-2f9778e7d9f8"
      },
      "execution_count": null,
      "outputs": [
        {
          "output_type": "stream",
          "name": "stdout",
          "text": [
            "Saved model to disk\n"
          ]
        }
      ]
    },
    {
      "cell_type": "code",
      "source": [
        "_, training_accuracy = model.evaluate_generator(train_generator, steps=None, callbacks=None, max_queue_size=10, workers=1, use_multiprocessing=False, verbose=0)\n",
        "print('training accuracy: %.2f' % (training_accuracy*100))\n",
        "\n",
        "_, validation_accuracy = model.evaluate(validation_generator, steps=None, callbacks=None, max_queue_size=10, workers=1, use_multiprocessing=False, verbose=0)\n",
        "print('validation accuracy: %.2f' % (validation_accuracy*100))"
      ],
      "metadata": {
        "colab": {
          "base_uri": "https://localhost:8080/"
        },
        "id": "uxxKZMFb9S-t",
        "outputId": "e011eceb-6d02-43eb-9952-87f05b4e570f"
      },
      "execution_count": null,
      "outputs": [
        {
          "output_type": "stream",
          "name": "stderr",
          "text": [
            "/usr/local/lib/python3.7/dist-packages/ipykernel_launcher.py:1: UserWarning: `Model.evaluate_generator` is deprecated and will be removed in a future version. Please use `Model.evaluate`, which supports generators.\n",
            "  \"\"\"Entry point for launching an IPython kernel.\n"
          ]
        },
        {
          "output_type": "stream",
          "name": "stdout",
          "text": [
            "training accuracy: 47.37\n",
            "validation accuracy: 40.00\n"
          ]
        }
      ]
    },
    {
      "cell_type": "code",
      "source": [
        "test_generator = datagen.flow_from_directory(\n",
        "        test_data_dir,\n",
        "        target_size=(img_width, img_height),\n",
        "        color_mode = 'rgb',\n",
        "        batch_size=batch_size,\n",
        "        class_mode='categorical')\n",
        "# test_batches = datagen.flow_from_directory(directory=test_data_dir, target_size=(256,256), classes=['Grade0', 'Grade1','Grade2','Grade3','Grade4'], batch_size=10, shuffle=False)"
      ],
      "metadata": {
        "colab": {
          "base_uri": "https://localhost:8080/"
        },
        "id": "KjaB5FtGBXRz",
        "outputId": "684306ab-6046-49c1-cc71-f979af8eb9ef"
      },
      "execution_count": null,
      "outputs": [
        {
          "output_type": "stream",
          "name": "stdout",
          "text": [
            "Found 106 images belonging to 5 classes.\n"
          ]
        }
      ]
    },
    {
      "cell_type": "code",
      "source": [
        "\n",
        "_, test_accuracy = model.evaluate_generator(test_generator, steps=None, callbacks=None, max_queue_size=10, workers=1, use_multiprocessing=False, verbose=0)"
      ],
      "metadata": {
        "colab": {
          "base_uri": "https://localhost:8080/"
        },
        "id": "uznAyKHeBLDU",
        "outputId": "d31b9942-798e-4584-cced-0173cd908f74"
      },
      "execution_count": null,
      "outputs": [
        {
          "output_type": "stream",
          "name": "stderr",
          "text": [
            "/usr/local/lib/python3.7/dist-packages/ipykernel_launcher.py:2: UserWarning: `Model.evaluate_generator` is deprecated and will be removed in a future version. Please use `Model.evaluate`, which supports generators.\n",
            "  \n"
          ]
        }
      ]
    },
    {
      "cell_type": "code",
      "source": [
        "print('test accuracy: %.2f' % (test_accuracy*100))"
      ],
      "metadata": {
        "colab": {
          "base_uri": "https://localhost:8080/"
        },
        "id": "FAZ7spW6HypQ",
        "outputId": "44563247-81c7-435f-ae34-54c2e5a20a9a"
      },
      "execution_count": null,
      "outputs": [
        {
          "output_type": "stream",
          "name": "stdout",
          "text": [
            "test accuracy: 31.13\n"
          ]
        }
      ]
    }
  ]
}